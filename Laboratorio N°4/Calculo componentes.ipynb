{
 "cells": [
  {
   "cell_type": "code",
   "execution_count": null,
   "metadata": {},
   "outputs": [
    {
     "name": "stdout",
     "output_type": "stream",
     "text": [
      "Solución del sistema de ecuaciones:\n",
      "k = 3.44700534446283\n",
      "R = 1736.56319058784\n",
      "\n",
      "Valor de R escalado para C = 100 nF:\n",
      "R_escalado = 1.73656319058784E-11 Ω\n"
     ]
    }
   ],
   "source": [
    "import sympy as sp\n",
    "\n",
    "# Definir las variables simbólicas\n",
    "k, R ,C= sp.symbols('k R C')\n",
    "C=100e-9 # defino a C en 100 nF\n",
    "\n",
    "# Ecuaciones simplificadas\n",
    "eq1 = -k/(C*R) + 4/(C*R) - 3184.42\n",
    "eq2 = 2/(C**2*R**2) - 66320656\n",
    "\n",
    "# Resolver el sistema de ecuaciones\n",
    "R =sp.solve(eq2,R) # defino el valor de R\n",
    "R=R[1]\n",
    "eq1 = -k/(C*R) + 4/(C*R) - 3184.42 # redefino la ecuación para el nuevo valor de R\n",
    "K, =sp.solve(eq1,k) # como es cuadrática obtendré un valor positivo y otro negativo\n",
    "\n",
    "# Mostrar la solución\n",
    "print(\"Solución del sistema de ecuaciones Realimentación Positiva:\")\n",
    "print(f\"k = {K}\")\n",
    "print(f\"R = {R}\")\n",
    "\n",
    "\n"
   ]
  }
 ],
 "metadata": {
  "kernelspec": {
   "display_name": "Python 3",
   "language": "python",
   "name": "python3"
  },
  "language_info": {
   "codemirror_mode": {
    "name": "ipython",
    "version": 3
   },
   "file_extension": ".py",
   "mimetype": "text/x-python",
   "name": "python",
   "nbconvert_exporter": "python",
   "pygments_lexer": "ipython3",
   "version": "3.9.7"
  }
 },
 "nbformat": 4,
 "nbformat_minor": 2
}
